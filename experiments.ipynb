{
 "cells": [
  {
   "metadata": {},
   "cell_type": "markdown",
   "source": "# Imports",
   "id": "61e3eadfca32df7a"
  },
  {
   "metadata": {},
   "cell_type": "code",
   "source": [
    "import json\n",
    "import os\n",
    "\n",
    "import numpy as np\n",
    "\n",
    "from verification_system import VerificationSystem"
   ],
   "id": "d2995cd82e29f87a",
   "outputs": [],
   "execution_count": null
  },
  {
   "metadata": {},
   "cell_type": "markdown",
   "source": "# Parameters",
   "id": "6c7f3fe924ab76a2"
  },
  {
   "metadata": {},
   "cell_type": "code",
   "source": [
    "acceptance_threshold = 0.5\n",
    "model_name = \"Facenet512\"\n",
    "allow_brute_force = True"
   ],
   "id": "d034ad9919c17c05",
   "outputs": [],
   "execution_count": null
  },
  {
   "metadata": {},
   "cell_type": "markdown",
   "source": "# 1. Testing on Clean Dataset",
   "id": "5cfbd83c65f4c5d7"
  },
  {
   "metadata": {},
   "cell_type": "code",
   "source": [
    "verification_system = VerificationSystem(\n",
    "    database_path=os.path.join(\"data\", \"database\"),\n",
    "    acceptance_threshold=acceptance_threshold,\n",
    "    model_name=model_name,\n",
    "    allow_brute_force=allow_brute_force,\n",
    ")"
   ],
   "id": "19e9f25140f92ac6",
   "outputs": [],
   "execution_count": null
  },
  {
   "metadata": {},
   "cell_type": "code",
   "source": [
    "experiment_name = \"clean_dataset\"\n",
    "\n",
    "authorized_users_path = os.path.join(\n",
    "    \"data\", \"database\", \"incoming_users\", \"authorized_users\"\n",
    ")\n",
    "\n",
    "unauthorized_users_path = os.path.join(\n",
    "    \"data\", \"database\", \"incoming_users\", \"unauthorized_users\"\n",
    ")"
   ],
   "id": "f9fbf7ca966b0bc7",
   "outputs": [],
   "execution_count": null
  },
  {
   "metadata": {},
   "cell_type": "code",
   "source": "df_authorized = verification_system.verify_multiple_users(authorized_users_path)",
   "id": "63a33a39ae714679",
   "outputs": [],
   "execution_count": null
  },
  {
   "metadata": {},
   "cell_type": "code",
   "source": "df_unauthorized = verification_system.verify_multiple_users(unauthorized_users_path)",
   "id": "a55956e819aec514",
   "outputs": [],
   "execution_count": null
  },
  {
   "metadata": {},
   "cell_type": "code",
   "source": [
    "false_acceptance_rate, false_rejection_rate = verification_system.calculate_far_frr(\n",
    "    df_authorized, df_unauthorized\n",
    ")\n",
    "\n",
    "true_negative, false_positive, false_negative, true_positive = (\n",
    "    verification_system.calculate_ROC_curve(\n",
    "        df_authorized,\n",
    "        df_unauthorized,\n",
    "        os.path.join(\"data\", \"results\", \"roc_curve\", experiment_name + \".png\"),\n",
    "    )\n",
    ")\n",
    "accuracy = (true_positive + true_negative) / (\n",
    "    true_positive + true_negative + false_positive + false_negative\n",
    ")\n",
    "access_granted_rate = verification_system.calculate_access_granted_rate(df_authorized)"
   ],
   "id": "84d6c8c10b27dd1a",
   "outputs": [],
   "execution_count": null
  },
  {
   "metadata": {},
   "cell_type": "code",
   "source": [
    "dict_results = {\n",
    "    \"FAR\": np.round(false_acceptance_rate, 3),\n",
    "    \"FRR\": np.round(false_rejection_rate, 3),\n",
    "    \"TN\": true_negative,\n",
    "    \"FP\": false_positive,\n",
    "    \"FN\": false_negative,\n",
    "    \"TP\": true_positive,\n",
    "    \"ACC\": np.round(accuracy, 3),\n",
    "    \"AGR\": np.round(access_granted_rate, 3),\n",
    "}"
   ],
   "id": "2f0a593cc7709b88",
   "outputs": [],
   "execution_count": null
  },
  {
   "metadata": {},
   "cell_type": "code",
   "source": [
    "# convert int64 values to native Python integers\n",
    "for key, value in dict_results.items():\n",
    "    dict_results[key] = int(value) if isinstance(value, np.int64) else value"
   ],
   "id": "fbbe828b1ad1d05b",
   "outputs": [],
   "execution_count": null
  },
  {
   "metadata": {},
   "cell_type": "code",
   "source": [
    "with open(os.path.join(\"data\", \"results\", f\"{experiment_name}.json\"), \"w\") as json_file:\n",
    "    json.dump(dict_results, json_file, indent=4)"
   ],
   "id": "d833422b4e703783",
   "outputs": [],
   "execution_count": null
  },
  {
   "metadata": {},
   "cell_type": "markdown",
   "source": "# 2. Testing on Modified Dataset",
   "id": "6a839a4c8b70ecd6"
  },
  {
   "metadata": {},
   "cell_type": "code",
   "source": [
    "verification_system = VerificationSystem(\n",
    "    database_path=os.path.join(\"data\", \"database_2\"),\n",
    "    acceptance_threshold=acceptance_threshold,\n",
    "    model_name=model_name,\n",
    "    allow_brute_force=allow_brute_force,\n",
    ")"
   ],
   "id": "7b812e7711438527",
   "outputs": [],
   "execution_count": null
  },
  {
   "metadata": {},
   "cell_type": "code",
   "source": [
    "experiment_name = \"modified_dataset\"\n",
    "\n",
    "authorized_users_path = os.path.join(\n",
    "    \"data\", \"database_2\", \"incoming_users\", \"authorized_users\"\n",
    ")\n",
    "\n",
    "unauthorized_users_path = os.path.join(\n",
    "    \"data\", \"database_2\", \"incoming_users\", \"unauthorized_users\"\n",
    ")"
   ],
   "id": "9517af8fe3baae93",
   "outputs": [],
   "execution_count": null
  },
  {
   "metadata": {},
   "cell_type": "code",
   "source": "df_authorized = verification_system.verify_multiple_users(authorized_users_path)",
   "id": "3fdd559467d43739",
   "outputs": [],
   "execution_count": null
  },
  {
   "metadata": {},
   "cell_type": "code",
   "source": "df_unauthorized = verification_system.verify_multiple_users(unauthorized_users_path)",
   "id": "82efb65eb35a442",
   "outputs": [],
   "execution_count": null
  },
  {
   "metadata": {},
   "cell_type": "code",
   "source": [
    "false_acceptance_rate, false_rejection_rate = verification_system.calculate_far_frr(\n",
    "    df_authorized, df_unauthorized\n",
    ")\n",
    "\n",
    "true_negative, false_positive, false_negative, true_positive = (\n",
    "    verification_system.calculate_ROC_curve(\n",
    "        df_authorized,\n",
    "        df_unauthorized,\n",
    "        os.path.join(\"data\", \"results\", \"roc_curve\", experiment_name + \".png\"),\n",
    "    )\n",
    ")\n",
    "accuracy = (true_positive + true_negative) / (\n",
    "    true_positive + true_negative + false_positive + false_negative\n",
    ")\n",
    "access_granted_rate = verification_system.calculate_access_granted_rate(df_authorized)"
   ],
   "id": "b20da37b5b56bd72",
   "outputs": [],
   "execution_count": null
  },
  {
   "metadata": {},
   "cell_type": "code",
   "source": [
    "dict_results = {\n",
    "    \"FAR\": np.round(false_acceptance_rate, 3),\n",
    "    \"FRR\": np.round(false_rejection_rate, 3),\n",
    "    \"TN\": true_negative,\n",
    "    \"FP\": false_positive,\n",
    "    \"FN\": false_negative,\n",
    "    \"TP\": true_positive,\n",
    "    \"ACC\": np.round(accuracy, 3),\n",
    "    \"AGR\": np.round(access_granted_rate, 3),\n",
    "}"
   ],
   "id": "e938a7f543f01737",
   "outputs": [],
   "execution_count": null
  },
  {
   "metadata": {},
   "cell_type": "code",
   "source": [
    "# convert int64 values to native Python integers\n",
    "for key, value in dict_results.items():\n",
    "    dict_results[key] = int(value) if isinstance(value, np.int64) else value"
   ],
   "id": "494a5b99ab9df458",
   "outputs": [],
   "execution_count": null
  },
  {
   "metadata": {},
   "cell_type": "code",
   "source": [
    "with open(os.path.join(\"data\", \"results\", f\"{experiment_name}.json\"), \"w\") as json_file:\n",
    "    json.dump(dict_results, json_file, indent=4)"
   ],
   "id": "7b688b8872d78099",
   "outputs": [],
   "execution_count": null
  },
  {
   "metadata": {},
   "cell_type": "markdown",
   "source": "# 3. Testing on Modified Dataset with Modified Database",
   "id": "91e68a5eef2616ea"
  },
  {
   "metadata": {},
   "cell_type": "code",
   "source": [
    "verification_system = VerificationSystem(\n",
    "    database_path=os.path.join(\"data\", \"database_3\"),\n",
    "    acceptance_threshold=acceptance_threshold,\n",
    "    model_name=model_name,\n",
    "    allow_brute_force=allow_brute_force,\n",
    ")"
   ],
   "id": "fadca320c8866bc6",
   "outputs": [],
   "execution_count": null
  },
  {
   "metadata": {},
   "cell_type": "code",
   "source": [
    "experiment_name = \"modified_dataset_database\"\n",
    "\n",
    "authorized_users_path = os.path.join(\n",
    "    \"data\", \"database_3\", \"incoming_users\", \"authorized_users\"\n",
    ")\n",
    "\n",
    "unauthorized_users_path = os.path.join(\n",
    "    \"data\", \"database_3\", \"incoming_users\", \"unauthorized_users\"\n",
    ")"
   ],
   "id": "352a9d0fd13c791f",
   "outputs": [],
   "execution_count": null
  },
  {
   "metadata": {},
   "cell_type": "code",
   "source": "df_authorized = verification_system.verify_multiple_users(authorized_users_path)",
   "id": "73f3223e9c3095cc",
   "outputs": [],
   "execution_count": null
  },
  {
   "metadata": {},
   "cell_type": "code",
   "source": "df_unauthorized = verification_system.verify_multiple_users(unauthorized_users_path)",
   "id": "69c7ce72c5236a15",
   "outputs": [],
   "execution_count": null
  },
  {
   "metadata": {},
   "cell_type": "code",
   "source": [
    "false_acceptance_rate, false_rejection_rate = verification_system.calculate_far_frr(\n",
    "    df_authorized, df_unauthorized\n",
    ")\n",
    "\n",
    "true_negative, false_positive, false_negative, true_positive = (\n",
    "    verification_system.calculate_ROC_curve(\n",
    "        df_authorized,\n",
    "        df_unauthorized,\n",
    "        os.path.join(\"data\", \"results\", \"roc_curve\", experiment_name + \".png\"),\n",
    "    )\n",
    ")\n",
    "accuracy = (true_positive + true_negative) / (\n",
    "    true_positive + true_negative + false_positive + false_negative\n",
    ")\n",
    "access_granted_rate = verification_system.calculate_access_granted_rate(df_authorized)"
   ],
   "id": "8cfca7bdb6a46d73",
   "outputs": [],
   "execution_count": null
  },
  {
   "metadata": {},
   "cell_type": "code",
   "source": [
    "dict_results = {\n",
    "    \"FAR\": np.round(false_acceptance_rate, 3),\n",
    "    \"FRR\": np.round(false_rejection_rate, 3),\n",
    "    \"TN\": true_negative,\n",
    "    \"FP\": false_positive,\n",
    "    \"FN\": false_negative,\n",
    "    \"TP\": true_positive,\n",
    "    \"ACC\": np.round(accuracy, 3),\n",
    "    \"AGR\": np.round(access_granted_rate, 3),\n",
    "}"
   ],
   "id": "87c081295bb13131",
   "outputs": [],
   "execution_count": null
  },
  {
   "metadata": {},
   "cell_type": "code",
   "source": [
    "# convert int64 values to native Python integers\n",
    "for key, value in dict_results.items():\n",
    "    dict_results[key] = int(value) if isinstance(value, np.int64) else value"
   ],
   "id": "b07696c12d17158d",
   "outputs": [],
   "execution_count": null
  },
  {
   "metadata": {},
   "cell_type": "code",
   "source": [
    "with open(os.path.join(\"data\", \"results\", f\"{experiment_name}.json\"), \"w\") as json_file:\n",
    "    json.dump(dict_results, json_file, indent=4)"
   ],
   "id": "324995b4c079a421",
   "outputs": [],
   "execution_count": null
  }
 ],
 "metadata": {
  "kernelspec": {
   "display_name": "Python 3",
   "language": "python",
   "name": "python3"
  },
  "language_info": {
   "codemirror_mode": {
    "name": "ipython",
    "version": 2
   },
   "file_extension": ".py",
   "mimetype": "text/x-python",
   "name": "python",
   "nbconvert_exporter": "python",
   "pygments_lexer": "ipython2",
   "version": "2.7.6"
  }
 },
 "nbformat": 4,
 "nbformat_minor": 5
}
