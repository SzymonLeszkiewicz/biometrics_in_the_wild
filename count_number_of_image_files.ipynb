{
 "cells": [
  {
   "metadata": {},
   "cell_type": "code",
   "source": "import os",
   "id": "67f06a6576d60c61",
   "outputs": [],
   "execution_count": null
  },
  {
   "metadata": {},
   "cell_type": "code",
   "source": [
    "def count_image_files(directory):\n",
    "    # List of common image file extensions\n",
    "    image_extensions = {\".jpg\", \".jpeg\", \".png\", \".gif\", \".bmp\", \".tiff\"}\n",
    "    image_count = 0\n",
    "\n",
    "    # Walk through the directory and its subdirectories\n",
    "    for root, dirs, files in os.walk(directory):\n",
    "        for file in files:\n",
    "            if os.path.splitext(file)[1].lower() in image_extensions:\n",
    "                image_count += 1\n",
    "\n",
    "    return image_count"
   ],
   "id": "fee351efa90dfbbb",
   "outputs": [],
   "execution_count": null
  },
  {
   "metadata": {},
   "cell_type": "code",
   "source": [
    "# Example usage:\n",
    "directory_path = (\n",
    "    \"data/database/authorized_users\"  # Replace this with the path to your folder\n",
    ")\n",
    "image_file_count = count_image_files(directory_path)\n",
    "print(f\"Total number of image files: {image_file_count}\")"
   ],
   "id": "53830bd1e5b8b208",
   "outputs": [],
   "execution_count": null
  }
 ],
 "metadata": {
  "kernelspec": {
   "display_name": "Python 3",
   "language": "python",
   "name": "python3"
  },
  "language_info": {
   "codemirror_mode": {
    "name": "ipython",
    "version": 2
   },
   "file_extension": ".py",
   "mimetype": "text/x-python",
   "name": "python",
   "nbconvert_exporter": "python",
   "pygments_lexer": "ipython2",
   "version": "2.7.6"
  }
 },
 "nbformat": 4,
 "nbformat_minor": 5
}
