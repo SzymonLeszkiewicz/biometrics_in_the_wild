{
 "cells": [
  {
   "cell_type": "code",
   "execution_count": 1,
   "metadata": {},
   "outputs": [
    {
     "name": "stdout",
     "output_type": "stream",
     "text": [
      "WARNING:tensorflow:From c:\\Users\\Kacper Kozaczko\\Desktop\\Stuff\\PWr\\III_semestr\\Biometria\\biometrics_in_the_wild\\venv\\Lib\\site-packages\\keras\\src\\losses.py:2976: The name tf.losses.sparse_softmax_cross_entropy is deprecated. Please use tf.compat.v1.losses.sparse_softmax_cross_entropy instead.\n",
      "\n"
     ]
    }
   ],
   "source": [
    "import cv2\n",
    "import os\n",
    "from glasses_to_image import apply_glasses_to_image\n",
    "from mustache_to_image import apply_mustache_to_image\n",
    "import warnings\n",
    "\n",
    "warnings.filterwarnings(\"ignore\")"
   ]
  },
  {
   "cell_type": "code",
   "execution_count": 2,
   "metadata": {},
   "outputs": [],
   "source": [
    "data_dir = os.path.join(os.getcwd(), os.pardir, \"data\", \"database\", \"incoming_users\")\n",
    "target_dir = os.path.join(os.getcwd(), os.pardir, \"data\", \"modified_images\")"
   ]
  },
  {
   "cell_type": "code",
   "execution_count": 3,
   "metadata": {},
   "outputs": [],
   "source": [
    "def modify_images(src_dir: str, dst_dir: str):\n",
    "    \"\"\"Function to generate the same structure as src_dir and modify images with mustache and glasses.\n",
    "    Function walks through directories and creates the same structure. \\\n",
    "        If user 105 has image \"004816.jpg\" it will be saved into dst_dir/105/004816_<mustache/glasses>.jpg\n",
    "\n",
    "    Args:\n",
    "        src_dir (str): Source directory. The directory with images to be modified.\n",
    "        dst_dir (str): Destination directory. The directory to which images should be saved.\n",
    "    \"\"\"\n",
    "    if not os.path.exists(dst_dir):\n",
    "        os.makedirs(dst_dir)\n",
    "\n",
    "    for dirpath, dirnames, filenames in os.walk(src_dir):\n",
    "        dst_path = os.path.join(dst_dir, os.path.relpath(dirpath, src_dir))\n",
    "        if not os.path.exists(dst_path):\n",
    "            os.makedirs(dst_path)\n",
    "\n",
    "        for filename in filenames:\n",
    "            src_file = os.path.join(dirpath, filename)\n",
    "            dst_file = os.path.join(dst_path, filename[:-4:] + \"_mustache.jpg\")\n",
    "\n",
    "            img = apply_mustache_to_image(\n",
    "                src_file, \"filters/mustache1.png\"\n",
    "            )  # perform mustache adding\n",
    "            cv2.imwrite(filename=dst_file, img=img)\n",
    "\n",
    "            dst_file = os.path.join(dst_path, filename[:-4:] + \"_glasses.jpg\")\n",
    "            img = apply_glasses_to_image(\n",
    "                src_file, \"filters/glasses2.png\"\n",
    "            )  # perform mustache adding\n",
    "            cv2.imwrite(filename=dst_file, img=img)"
   ]
  },
  {
   "cell_type": "code",
   "execution_count": 4,
   "metadata": {},
   "outputs": [],
   "source": [
    "modify_images(src_dir=data_dir, dst_dir=target_dir)"
   ]
  },
  {
   "cell_type": "code",
   "execution_count": null,
   "metadata": {},
   "outputs": [],
   "source": []
  }
 ],
 "metadata": {
  "kernelspec": {
   "display_name": "venv",
   "language": "python",
   "name": "python3"
  },
  "language_info": {
   "codemirror_mode": {
    "name": "ipython",
    "version": 3
   },
   "file_extension": ".py",
   "mimetype": "text/x-python",
   "name": "python",
   "nbconvert_exporter": "python",
   "pygments_lexer": "ipython3",
   "version": "3.11.8"
  }
 },
 "nbformat": 4,
 "nbformat_minor": 2
}
