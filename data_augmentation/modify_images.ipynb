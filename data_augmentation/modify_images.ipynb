{
 "cells": [
  {
   "cell_type": "code",
   "metadata": {},
   "source": [
    "import os\n",
    "import shutil\n",
    "import warnings\n",
    "\n",
    "import cv2\n",
    "\n",
    "from glasses_to_image import apply_glasses_to_image\n",
    "from mustache_to_image import apply_mustache_to_image\n",
    "from resize_image import resize_image\n",
    "\n",
    "warnings.filterwarnings(\"ignore\")"
   ],
   "outputs": [],
   "execution_count": null
  },
  {
   "cell_type": "code",
   "metadata": {},
   "source": [
    "def modify_images(\n",
    "    src_dir: str,\n",
    "    dst_dir: str,\n",
    "    use_modification: bool = True,\n",
    "    keep_original: bool = False,\n",
    "):\n",
    "    \"\"\"Function to generate the same structure as src_dir and modify images with mustache and glasses.\n",
    "    Function walks through directories and creates the same structure. \\\n",
    "        If user 105 has image \"004816.jpg\" it will be saved into dst_dir/105/004816_<mustache/glasses>.jpg\n",
    "\n",
    "    Args:\n",
    "        src_dir (str): Source directory. The directory with images to be modified.\n",
    "        dst_dir (str): Destination directory. The directory to which images should be saved.\n",
    "    \"\"\"\n",
    "    if not os.path.exists(dst_dir):\n",
    "        os.makedirs(dst_dir, exist_ok=True)\n",
    "\n",
    "    for dirpath, dirnames, filenames in os.walk(src_dir):\n",
    "        dst_path = os.path.join(dst_dir, os.path.relpath(dirpath, src_dir))\n",
    "        if not os.path.exists(dst_path):\n",
    "            os.makedirs(dst_path)\n",
    "\n",
    "        for filename in filenames:\n",
    "\n",
    "            if filename.endswith(\".pkl\"):\n",
    "                continue\n",
    "\n",
    "            src_file = os.path.join(dirpath, filename)\n",
    "            if src_file.split(os.sep)[-1] == \".DS_Store\":\n",
    "                print(\"Skipping .DS_Store file\")\n",
    "                continue\n",
    "\n",
    "            if keep_original:\n",
    "                dst_file = os.path.join(dst_path, filename)\n",
    "                shutil.copyfile(src_file, dst_file)\n",
    "\n",
    "            if use_modification:\n",
    "                dst_file = os.path.join(dst_path, filename[:-4:] + \"_mustache.jpg\")\n",
    "                img = apply_mustache_to_image(\n",
    "                    src_file, \"filters/mustache1.png\"\n",
    "                )  # perform mustache adding\n",
    "                cv2.imwrite(filename=dst_file, img=img)\n",
    "\n",
    "                dst_file = os.path.join(dst_path, filename[:-4:] + \"_glasses.jpg\")\n",
    "                img = apply_glasses_to_image(\n",
    "                    src_file, \"filters/glasses2.png\"\n",
    "                )  # perform mustache adding\n",
    "                cv2.imwrite(filename=dst_file, img=img)\n",
    "\n",
    "                dst_file = os.path.join(dst_path, filename[:-4:] + \"_resized.jpg\")\n",
    "                img = resize_image(src_file)\n",
    "                cv2.imwrite(filename=dst_file, img=img)"
   ],
   "outputs": [],
   "execution_count": null
  },
  {
   "metadata": {},
   "cell_type": "markdown",
   "source": "# Prepare Second Experiment (Modified Incoming Users)"
  },
  {
   "metadata": {},
   "cell_type": "code",
   "source": [
    "# don't do anything with authorized_users, just move them\n",
    "\n",
    "modify_images(\n",
    "    src_dir=os.path.join(\n",
    "        os.getcwd(), os.pardir, \"data\", \"database\", \"authorized_users\"\n",
    "    ),\n",
    "    dst_dir=os.path.join(\n",
    "        os.getcwd(), os.pardir, \"data\", \"database_2\", \"authorized_users\"\n",
    "    ),\n",
    "    use_modification=False,\n",
    "    keep_original=True,\n",
    ")"
   ],
   "outputs": [],
   "execution_count": null
  },
  {
   "metadata": {},
   "cell_type": "code",
   "source": [
    "# modify incoming users\n",
    "\n",
    "modify_images(\n",
    "    src_dir=os.path.join(os.getcwd(), os.pardir, \"data\", \"database\", \"incoming_users\"),\n",
    "    dst_dir=os.path.join(\n",
    "        os.getcwd(), os.pardir, \"data\", \"database_2\", \"incoming_users\"\n",
    "    ),\n",
    "    use_modification=True,\n",
    "    keep_original=False,\n",
    ")"
   ],
   "outputs": [],
   "execution_count": null
  },
  {
   "metadata": {},
   "cell_type": "markdown",
   "source": "# Prepare Third Experiment (Modified Database and Incoming Users)"
  },
  {
   "metadata": {},
   "cell_type": "code",
   "source": [
    "# modify authorized_users, move both modified and original images\n",
    "\n",
    "modify_images(\n",
    "    src_dir=os.path.join(\n",
    "        os.getcwd(), os.pardir, \"data\", \"database\", \"authorized_users\"\n",
    "    ),\n",
    "    dst_dir=os.path.join(\n",
    "        os.getcwd(), os.pardir, \"data\", \"database_3\", \"authorized_users\"\n",
    "    ),\n",
    "    use_modification=True,\n",
    "    keep_original=True,\n",
    ")"
   ],
   "outputs": [],
   "execution_count": null
  },
  {
   "metadata": {},
   "cell_type": "code",
   "source": [
    "# modify incoming users\n",
    "\n",
    "modify_images(\n",
    "    src_dir=os.path.join(os.getcwd(), os.pardir, \"data\", \"database\", \"incoming_users\"),\n",
    "    dst_dir=os.path.join(\n",
    "        os.getcwd(), os.pardir, \"data\", \"database_3\", \"incoming_users\"\n",
    "    ),\n",
    "    use_modification=True,\n",
    "    keep_original=False,\n",
    ")"
   ],
   "outputs": [],
   "execution_count": null
  }
 ],
 "metadata": {
  "kernelspec": {
   "display_name": "venv",
   "language": "python",
   "name": "python3"
  },
  "language_info": {
   "codemirror_mode": {
    "name": "ipython",
    "version": 3
   },
   "file_extension": ".py",
   "mimetype": "text/x-python",
   "name": "python",
   "nbconvert_exporter": "python",
   "pygments_lexer": "ipython3",
   "version": "3.11.8"
  }
 },
 "nbformat": 4,
 "nbformat_minor": 2
}
