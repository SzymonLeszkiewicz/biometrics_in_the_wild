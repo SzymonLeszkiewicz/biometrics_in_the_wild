{
 "cells": [
  {
   "cell_type": "code",
   "execution_count": 1,
   "metadata": {
    "ExecuteTime": {
     "end_time": "2024-06-14T13:49:22.413018Z",
     "start_time": "2024-06-14T13:49:18.840496Z"
    }
   },
   "outputs": [
    {
     "name": "stderr",
     "output_type": "stream",
     "text": [
      "WARNING: All log messages before absl::InitializeLog() is called are written to STDERR\n",
      "I0000 00:00:1718372962.388544  134124 gl_context.cc:357] GL version: 2.1 (2.1 Metal - 88), renderer: Apple M1 Pro\n",
      "INFO: Created TensorFlow Lite XNNPACK delegate for CPU.\n",
      "W0000 00:00:1718372962.390210  134233 inference_feedback_manager.cc:114] Feedback manager requires a model with a single signature inference. Disabling support for feedback tensors.\n",
      "I0000 00:00:1718372962.393238  134124 gl_context.cc:357] GL version: 2.1 (2.1 Metal - 88), renderer: Apple M1 Pro\n",
      "W0000 00:00:1718372962.394060  134241 inference_feedback_manager.cc:114] Feedback manager requires a model with a single signature inference. Disabling support for feedback tensors.\n",
      "I0000 00:00:1718372962.396714  134124 gl_context.cc:357] GL version: 2.1 (2.1 Metal - 88), renderer: Apple M1 Pro\n",
      "W0000 00:00:1718372962.396956  134244 inference_feedback_manager.cc:114] Feedback manager requires a model with a single signature inference. Disabling support for feedback tensors.\n",
      "W0000 00:00:1718372962.397422  134252 inference_feedback_manager.cc:114] Feedback manager requires a model with a single signature inference. Disabling support for feedback tensors.\n",
      "I0000 00:00:1718372962.403609  134124 gl_context.cc:357] GL version: 2.1 (2.1 Metal - 88), renderer: Apple M1 Pro\n",
      "W0000 00:00:1718372962.404322  134259 inference_feedback_manager.cc:114] Feedback manager requires a model with a single signature inference. Disabling support for feedback tensors.\n"
     ]
    }
   ],
   "source": [
    "import os\n",
    "import warnings\n",
    "\n",
    "import cv2\n",
    "\n",
    "from glasses_to_image import apply_glasses_to_image\n",
    "from mustache_to_image import apply_mustache_to_image\n",
    "from resize_image import resize_image\n",
    "\n",
    "warnings.filterwarnings(\"ignore\")"
   ]
  },
  {
   "cell_type": "code",
   "execution_count": 2,
   "metadata": {
    "ExecuteTime": {
     "end_time": "2024-06-14T13:49:22.413303Z",
     "start_time": "2024-06-14T13:49:22.409717Z"
    }
   },
   "outputs": [],
   "source": [
    "data_dir = os.path.join(os.getcwd(), os.pardir, \"data\", \"database\", \"incoming_users\")\n",
    "target_dir = os.path.join(os.getcwd(), os.pardir, \"data\", \"modified_images\")"
   ]
  },
  {
   "cell_type": "code",
   "execution_count": 5,
   "metadata": {
    "ExecuteTime": {
     "end_time": "2024-06-14T13:49:54.791916Z",
     "start_time": "2024-06-14T13:49:54.788104Z"
    }
   },
   "outputs": [],
   "source": [
    "def modify_images(src_dir: str, dst_dir: str):\n",
    "    \"\"\"Function to generate the same structure as src_dir and modify images with mustache and glasses.\n",
    "    Function walks through directories and creates the same structure. \\\n",
    "        If user 105 has image \"004816.jpg\" it will be saved into dst_dir/105/004816_<mustache/glasses>.jpg\n",
    "\n",
    "    Args:\n",
    "        src_dir (str): Source directory. The directory with images to be modified.\n",
    "        dst_dir (str): Destination directory. The directory to which images should be saved.\n",
    "    \"\"\"\n",
    "    if not os.path.exists(dst_dir):\n",
    "        os.makedirs(dst_dir)\n",
    "\n",
    "    for dirpath, dirnames, filenames in os.walk(src_dir):\n",
    "        dst_path = os.path.join(dst_dir, os.path.relpath(dirpath, src_dir))\n",
    "        if not os.path.exists(dst_path):\n",
    "            os.makedirs(dst_path)\n",
    "\n",
    "        for filename in filenames:\n",
    "            src_file = os.path.join(dirpath, filename)\n",
    "            if src_file.split(os.sep)[-1] == \".DS_Store\":\n",
    "                print(\"Skipping .DS_Store file\")\n",
    "                continue\n",
    "            dst_file = os.path.join(dst_path, filename[:-4:] + \"_mustache.jpg\")\n",
    "            img = apply_mustache_to_image(\n",
    "                src_file, \"filters/mustache1.png\"\n",
    "            )  # perform mustache adding\n",
    "            cv2.imwrite(filename=dst_file, img=img)\n",
    "\n",
    "            dst_file = os.path.join(dst_path, filename[:-4:] + \"_glasses.jpg\")\n",
    "            img = apply_glasses_to_image(\n",
    "                src_file, \"filters/glasses2.png\"\n",
    "            )  # perform mustache adding\n",
    "            cv2.imwrite(filename=dst_file, img=img)\n",
    "\n",
    "            dst_file = os.path.join(dst_path, filename[:-4:] + \"_resized.jpg\")\n",
    "            img = resize_image(src_file)\n",
    "            cv2.imwrite(filename=dst_file, img=img)"
   ]
  },
  {
   "cell_type": "code",
   "execution_count": 6,
   "metadata": {
    "ExecuteTime": {
     "end_time": "2024-06-14T13:50:02.775703Z",
     "start_time": "2024-06-14T13:49:55.108265Z"
    }
   },
   "outputs": [
    {
     "name": "stdout",
     "output_type": "stream",
     "text": [
      "Skipping .DS_Store file\n",
      "Skipping .DS_Store file\n"
     ]
    }
   ],
   "source": [
    "modify_images(src_dir=data_dir, dst_dir=target_dir)"
   ]
  }
 ],
 "metadata": {
  "kernelspec": {
   "display_name": "venv",
   "language": "python",
   "name": "python3"
  },
  "language_info": {
   "codemirror_mode": {
    "name": "ipython",
    "version": 3
   },
   "file_extension": ".py",
   "mimetype": "text/x-python",
   "name": "python",
   "nbconvert_exporter": "python",
   "pygments_lexer": "ipython3",
   "version": "3.11.8"
  }
 },
 "nbformat": 4,
 "nbformat_minor": 2
}
