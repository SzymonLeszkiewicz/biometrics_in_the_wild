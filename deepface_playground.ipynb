{
 "cells": [
  {
   "metadata": {},
   "cell_type": "markdown",
   "source": "# Imports",
   "id": "3787e5060b6fcd53"
  },
  {
   "metadata": {},
   "cell_type": "code",
   "source": [
    "import os\n",
    "\n",
    "import cv2\n",
    "import matplotlib.pyplot as plt\n",
    "from deepface import DeepFace"
   ],
   "id": "initial_id",
   "outputs": [],
   "execution_count": null
  },
  {
   "metadata": {},
   "cell_type": "markdown",
   "source": "# Face Verification",
   "id": "5c5aeee64dc4fb27"
  },
  {
   "metadata": {},
   "cell_type": "code",
   "source": [
    "DeepFace.verify(\n",
    "    img1_path=\"data/database/authorized_users/1/023004.jpg\",\n",
    "    img2_path=\"data/modified_images/authorized_users/1/014042_resized.jpg\",\n",
    "    enforce_detection=False,\n",
    ")"
   ],
   "id": "bcffae0fdd48492b",
   "outputs": [],
   "execution_count": null
  },
  {
   "metadata": {},
   "cell_type": "markdown",
   "source": "# Face Recognition",
   "id": "bc01f3eb5b7e6fb3"
  },
  {
   "cell_type": "code",
   "source": [
    "DeepFace.find(\n",
    "    img_path=os.path.join(\"data\", \"family_faces\", \"Kuba.jpg\"),\n",
    "    db_path=os.path.join(\"data\", \"family_faces\"),\n",
    ")[0]"
   ],
   "metadata": {
    "collapsed": false
   },
   "id": "73e78276159435c7",
   "outputs": [],
   "execution_count": null
  },
  {
   "metadata": {},
   "cell_type": "markdown",
   "source": "# Embeddings",
   "id": "569f2a74e785ed52"
  },
  {
   "cell_type": "code",
   "source": "DeepFace.represent(img_path=\"data/img1.jpg\")[0].keys()",
   "metadata": {
    "collapsed": false
   },
   "id": "8a6781142b9e9d06",
   "outputs": [],
   "execution_count": null
  },
  {
   "metadata": {},
   "cell_type": "markdown",
   "source": "# Facial Analysis",
   "id": "827d519f57bec078"
  },
  {
   "cell_type": "code",
   "source": "DeepFace.analyze(img_path=\"data/family_faces/Kuba.jpg\")",
   "metadata": {
    "collapsed": false
   },
   "id": "53836e1c9e5c0120",
   "outputs": [],
   "execution_count": null
  },
  {
   "metadata": {},
   "cell_type": "markdown",
   "source": "# Face Detection and Alignment",
   "id": "9e63581635088c03"
  },
  {
   "cell_type": "code",
   "source": "DeepFace.extract_faces(img_path=\"data/family_faces/Kuba.jpg\", target_size=(224, 224))",
   "metadata": {
    "collapsed": false
   },
   "id": "ad7da5c746be168",
   "outputs": [],
   "execution_count": null
  },
  {
   "metadata": {},
   "cell_type": "markdown",
   "source": "# Plotting Bounding Box on Image",
   "id": "69ff6f9c8b9b4f7e"
  },
  {
   "cell_type": "code",
   "source": [
    "face = DeepFace.extract_faces(img_path=\"data/img1.jpg\")[0][\"facial_area\"]\n",
    "\n",
    "img = cv2.imread(\"data/img1.jpg\")\n",
    "cv2.rectangle(\n",
    "    img,\n",
    "    (face[\"x\"], face[\"y\"]),\n",
    "    (face[\"x\"] + face[\"w\"], face[\"y\"] + face[\"h\"]),\n",
    "    (255, 0, 0),\n",
    "    2,\n",
    ")\n",
    "img_rgb = cv2.cvtColor(img, cv2.COLOR_BGR2RGB)\n",
    "plt.imshow(img_rgb)\n",
    "plt.axis(\"off\")\n",
    "plt.show()"
   ],
   "metadata": {
    "collapsed": false
   },
   "id": "a8d1552f55a08258",
   "outputs": [],
   "execution_count": null
  },
  {
   "metadata": {},
   "cell_type": "markdown",
   "source": "# Real-Time Video Facial Analysis",
   "id": "64183e5619e9f05a"
  },
  {
   "cell_type": "code",
   "source": [
    "DeepFace.stream(\n",
    "    db_path=\"data/family_faces\",\n",
    "    enable_face_analysis=True,\n",
    "    time_threshold=5,\n",
    "    frame_threshold=5,\n",
    ")"
   ],
   "metadata": {
    "collapsed": false
   },
   "id": "4be157f6ec19943d",
   "outputs": [],
   "execution_count": null
  }
 ],
 "metadata": {
  "kernelspec": {
   "display_name": "Python 3",
   "language": "python",
   "name": "python3"
  },
  "language_info": {
   "codemirror_mode": {
    "name": "ipython",
    "version": 2
   },
   "file_extension": ".py",
   "mimetype": "text/x-python",
   "name": "python",
   "nbconvert_exporter": "python",
   "pygments_lexer": "ipython2",
   "version": "2.7.6"
  }
 },
 "nbformat": 4,
 "nbformat_minor": 5
}
